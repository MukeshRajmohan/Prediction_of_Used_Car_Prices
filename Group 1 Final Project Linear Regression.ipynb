{
 "cells": [
  {
   "cell_type": "code",
   "execution_count": 4,
   "id": "4788fab2-01ed-459e-97e3-4ab6fa51ea0e",
   "metadata": {},
   "outputs": [],
   "source": [
    "# Import libraries\n",
    "import pandas as pd\n",
    "import matplotlib.pyplot as plt\n",
    "import seaborn as sns\n",
    "from category_encoders import TargetEncoder\n",
    "from sklearn.preprocessing import StandardScaler\n",
    "from sklearn.model_selection import cross_val_score\n",
    "from sklearn.model_selection import train_test_split\n",
    "from sklearn.linear_model import LinearRegression\n",
    "from sklearn.metrics import mean_squared_error, r2_score"
   ]
  },
  {
   "cell_type": "code",
   "execution_count": 5,
   "id": "3451d470-9ce6-4316-aecf-293b59ad6030",
   "metadata": {},
   "outputs": [
    {
     "data": {
      "text/html": [
       "<div>\n",
       "<style scoped>\n",
       "    .dataframe tbody tr th:only-of-type {\n",
       "        vertical-align: middle;\n",
       "    }\n",
       "\n",
       "    .dataframe tbody tr th {\n",
       "        vertical-align: top;\n",
       "    }\n",
       "\n",
       "    .dataframe thead th {\n",
       "        text-align: right;\n",
       "    }\n",
       "</style>\n",
       "<table border=\"1\" class=\"dataframe\">\n",
       "  <thead>\n",
       "    <tr style=\"text-align: right;\">\n",
       "      <th></th>\n",
       "      <th>Price</th>\n",
       "      <th>Year</th>\n",
       "      <th>Mileage</th>\n",
       "      <th>City</th>\n",
       "      <th>State</th>\n",
       "      <th>Vin</th>\n",
       "      <th>Make</th>\n",
       "      <th>Model</th>\n",
       "    </tr>\n",
       "  </thead>\n",
       "  <tbody>\n",
       "    <tr>\n",
       "      <th>0</th>\n",
       "      <td>8995</td>\n",
       "      <td>2014</td>\n",
       "      <td>35725</td>\n",
       "      <td>El Paso</td>\n",
       "      <td>TX</td>\n",
       "      <td>19VDE2E53EE000083</td>\n",
       "      <td>Acura</td>\n",
       "      <td>ILX6-Speed</td>\n",
       "    </tr>\n",
       "    <tr>\n",
       "      <th>1</th>\n",
       "      <td>10888</td>\n",
       "      <td>2013</td>\n",
       "      <td>19606</td>\n",
       "      <td>Long Island City</td>\n",
       "      <td>NY</td>\n",
       "      <td>19VDE1F52DE012636</td>\n",
       "      <td>Acura</td>\n",
       "      <td>ILX5-Speed</td>\n",
       "    </tr>\n",
       "    <tr>\n",
       "      <th>2</th>\n",
       "      <td>8995</td>\n",
       "      <td>2013</td>\n",
       "      <td>48851</td>\n",
       "      <td>El Paso</td>\n",
       "      <td>TX</td>\n",
       "      <td>19VDE2E52DE000025</td>\n",
       "      <td>Acura</td>\n",
       "      <td>ILX6-Speed</td>\n",
       "    </tr>\n",
       "    <tr>\n",
       "      <th>3</th>\n",
       "      <td>10999</td>\n",
       "      <td>2014</td>\n",
       "      <td>39922</td>\n",
       "      <td>Windsor</td>\n",
       "      <td>CO</td>\n",
       "      <td>19VDE1F71EE003817</td>\n",
       "      <td>Acura</td>\n",
       "      <td>ILX5-Speed</td>\n",
       "    </tr>\n",
       "    <tr>\n",
       "      <th>4</th>\n",
       "      <td>14799</td>\n",
       "      <td>2016</td>\n",
       "      <td>22142</td>\n",
       "      <td>Lindon</td>\n",
       "      <td>UT</td>\n",
       "      <td>19UDE2F32GA001284</td>\n",
       "      <td>Acura</td>\n",
       "      <td>ILXAutomatic</td>\n",
       "    </tr>\n",
       "  </tbody>\n",
       "</table>\n",
       "</div>"
      ],
      "text/plain": [
       "   Price  Year  Mileage              City State                Vin   Make  \\\n",
       "0   8995  2014    35725           El Paso    TX  19VDE2E53EE000083  Acura   \n",
       "1  10888  2013    19606  Long Island City    NY  19VDE1F52DE012636  Acura   \n",
       "2   8995  2013    48851           El Paso    TX  19VDE2E52DE000025  Acura   \n",
       "3  10999  2014    39922           Windsor    CO  19VDE1F71EE003817  Acura   \n",
       "4  14799  2016    22142            Lindon    UT  19UDE2F32GA001284  Acura   \n",
       "\n",
       "          Model  \n",
       "0    ILX6-Speed  \n",
       "1    ILX5-Speed  \n",
       "2    ILX6-Speed  \n",
       "3    ILX5-Speed  \n",
       "4  ILXAutomatic  "
      ]
     },
     "execution_count": 5,
     "metadata": {},
     "output_type": "execute_result"
    }
   ],
   "source": [
    "# Read the data: Note, change filepath input based on the dataset location on your computer\n",
    "data = pd.read_csv('/Users/tanmayarodda/Desktop/Group 1 - AIT 736 DL1/true_car_listings.csv')\n",
    "data.head()"
   ]
  },
  {
   "cell_type": "code",
   "execution_count": 6,
   "id": "ebb71c31-e53f-4362-a3a2-3cb72b98e2b2",
   "metadata": {},
   "outputs": [
    {
     "name": "stdout",
     "output_type": "stream",
     "text": [
      "               Price           Year       Mileage\n",
      "count  852122.000000  852122.000000  8.521220e+05\n",
      "mean    21464.100210    2013.289145  5.250779e+04\n",
      "std     13596.202241       3.414987  4.198896e+04\n",
      "min      1500.000000    1997.000000  5.000000e+00\n",
      "25%     13000.000000    2012.000000  2.383600e+04\n",
      "50%     18500.000000    2014.000000  4.025600e+04\n",
      "75%     26995.000000    2016.000000  7.218600e+04\n",
      "max    499500.000000    2018.000000  2.856196e+06\n"
     ]
    }
   ],
   "source": [
    "# Summary statistics of numerical features\n",
    "print(data.describe())"
   ]
  },
  {
   "cell_type": "code",
   "execution_count": 7,
   "id": "4910e224-a68d-4652-af89-1bde51214cdf",
   "metadata": {},
   "outputs": [
    {
     "name": "stdout",
     "output_type": "stream",
     "text": [
      "Price      0\n",
      "Year       0\n",
      "Mileage    0\n",
      "City       0\n",
      "State      0\n",
      "Vin        0\n",
      "Make       0\n",
      "Model      0\n",
      "dtype: int64\n"
     ]
    }
   ],
   "source": [
    "# Check for null values\n",
    "print(data.isnull().sum())"
   ]
  },
  {
   "cell_type": "code",
   "execution_count": 8,
   "id": "076080f0-5f94-4693-85b1-a92400f450fc",
   "metadata": {},
   "outputs": [],
   "source": [
    "# Preprocess the data\n",
    "numeric_cols = ['Year', 'Mileage']\n",
    "categorical_cols = ['Make', 'Model','City','State']"
   ]
  },
  {
   "cell_type": "code",
   "execution_count": null,
   "id": "c9bd2e23-5600-45ab-9475-32f49f0be9e1",
   "metadata": {},
   "outputs": [],
   "source": [
    "# # Identify outliers using IQR method \n",
    "# def remove_outliers_iqr(df, column):\n",
    "#     Q1 = df[column].quantile(0.25)\n",
    "#     Q3 = df[column].quantile(0.75)\n",
    "#     IQR = Q3 - Q1\n",
    "#     lower_bound = Q1 - 1.5 * IQR\n",
    "#     upper_bound = Q3 + 1.5 * IQR\n",
    "#     outliers = (df[column] < lower_bound) | (df[column] > upper_bound)\n",
    "#     return df[~outliers]\n",
    "\n",
    "# # Apply outlier removal to numeric columns\n",
    "# for col in numeric_cols:\n",
    "#     data = remove_outliers_iqr(data, col)"
   ]
  },
  {
   "cell_type": "code",
   "execution_count": 9,
   "id": "98789264-2243-4bc5-9d3e-c79de068f7bc",
   "metadata": {},
   "outputs": [],
   "source": [
    "# Drop columns that doesn't affect the prediction\n",
    "data = data.drop(['Vin'], axis=1)"
   ]
  },
  {
   "cell_type": "code",
   "execution_count": 10,
   "id": "455758fb-d850-4f9c-87b1-a1b7d7551b80",
   "metadata": {},
   "outputs": [],
   "source": [
    "# Target encode categorical features\n",
    "target_encoder = TargetEncoder()\n",
    "data[categorical_cols] = target_encoder.fit_transform(data[categorical_cols], data['Price'])"
   ]
  },
  {
   "cell_type": "code",
   "execution_count": 11,
   "id": "4d6d25eb-b9b7-4e28-b6ae-6611e2aba6c9",
   "metadata": {},
   "outputs": [],
   "source": [
    "# Separate features and target\n",
    "X = data[numeric_cols + categorical_cols]\n",
    "y = data['Price']"
   ]
  },
  {
   "cell_type": "code",
   "execution_count": 12,
   "id": "0be5e924-ca74-4893-878f-1eee1e570f62",
   "metadata": {},
   "outputs": [],
   "source": [
    "# Scale the features\n",
    "scaler = StandardScaler()\n",
    "X_scaled = scaler.fit_transform(X)"
   ]
  },
  {
   "cell_type": "code",
   "execution_count": 13,
   "id": "b6bf00c5-c434-4409-bf7d-4be8d16d1fbd",
   "metadata": {},
   "outputs": [],
   "source": [
    "# Define feature combinations\n",
    "feature_combinations = [\n",
    "['Year'],\n",
    "['Mileage'],\n",
    "['City'],\n",
    "['State'],\n",
    "['Make'],\n",
    "['Model'],\n",
    "['Year', 'Mileage'],\n",
    "['Year', 'City'],\n",
    "['Year', 'State'],\n",
    "['Year', 'Make'],\n",
    "['Year', 'Model'],\n",
    "['Mileage', 'City'],\n",
    "['Mileage', 'State'],\n",
    "['Mileage', 'Make'],\n",
    "['Mileage', 'Model'],\n",
    "['City', 'State'],\n",
    "['City', 'Make'],\n",
    "['City', 'Model'],\n",
    "['State', 'Make'],\n",
    "['State', 'Model'],\n",
    "['Make', 'Model'],\n",
    "['Year', 'Mileage', 'City'],\n",
    "['Year', 'Mileage', 'State'],\n",
    "['Year', 'Mileage', 'Make'],\n",
    "['Year', 'Mileage', 'Model'],\n",
    "['Year', 'City', 'State'],\n",
    "['Year', 'City', 'Make'],\n",
    "['Year', 'City', 'Model'],\n",
    "['Year', 'State', 'Make'],\n",
    "['Year', 'State', 'Model'],\n",
    "['Year', 'Make', 'Model'],\n",
    "['Mileage', 'City', 'State'],\n",
    "['Mileage', 'City', 'Make'],\n",
    "['Mileage', 'City', 'Model'],\n",
    "['Mileage', 'State', 'Make'],\n",
    "['Mileage', 'State', 'Model'],\n",
    "['Mileage', 'Make', 'Model'],\n",
    "['City', 'State', 'Make'],\n",
    "['City', 'State', 'Model'],\n",
    "['City', 'Make', 'Model'],\n",
    "['State', 'Make', 'Model'],\n",
    "['Year', 'Mileage', 'City', 'State'],\n",
    "['Year', 'Mileage', 'City', 'Make'],\n",
    "['Year', 'Mileage', 'City', 'Model'],\n",
    "['Year', 'Mileage', 'State', 'Make'],\n",
    "['Year', 'Mileage', 'State', 'Model'],\n",
    "['Year', 'Mileage', 'Make', 'Model'],\n",
    "]"
   ]
  },
  {
   "cell_type": "code",
   "execution_count": 14,
   "id": "b399f04e-d045-43eb-a892-6531d729217f",
   "metadata": {
    "colab": {
     "base_uri": "https://localhost:8080/",
     "height": 383
    },
    "executionInfo": {
     "elapsed": 2871,
     "status": "error",
     "timestamp": 1712337312876,
     "user": {
      "displayName": "Shahin Rajabi",
      "userId": "17670868318507244519"
     },
     "user_tz": 240
    },
    "id": "b399f04e-d045-43eb-a892-6531d729217f",
    "outputId": "ab87917f-5ef8-4973-8d62-62f5eacacc3e"
   },
   "outputs": [
    {
     "name": "stdout",
     "output_type": "stream",
     "text": [
      "Features: ['Year'], Average R-squared: 0.1650\n",
      "Features: ['Mileage'], Average R-squared: 0.1773\n",
      "Features: ['City'], Average R-squared: 0.1025\n",
      "Features: ['State'], Average R-squared: 0.0070\n",
      "Features: ['Make'], Average R-squared: 0.3056\n",
      "Features: ['Model'], Average R-squared: 0.6522\n",
      "Features: ['Year', 'Mileage'], Average R-squared: 0.1937\n",
      "Features: ['Year', 'City'], Average R-squared: 0.2315\n",
      "Features: ['Year', 'State'], Average R-squared: 0.1696\n",
      "Features: ['Year', 'Make'], Average R-squared: 0.4808\n",
      "Features: ['Year', 'Model'], Average R-squared: 0.7071\n",
      "Features: ['Mileage', 'City'], Average R-squared: 0.2413\n",
      "Features: ['Mileage', 'State'], Average R-squared: 0.1838\n",
      "Features: ['Mileage', 'Make'], Average R-squared: 0.4634\n",
      "Features: ['Mileage', 'Model'], Average R-squared: 0.7231\n",
      "Features: ['City', 'State'], Average R-squared: 0.1023\n",
      "Features: ['City', 'Make'], Average R-squared: 0.3455\n",
      "Features: ['City', 'Model'], Average R-squared: 0.6639\n",
      "Features: ['State', 'Make'], Average R-squared: 0.3119\n",
      "Features: ['State', 'Model'], Average R-squared: 0.6531\n",
      "Features: ['Make', 'Model'], Average R-squared: 0.6585\n",
      "Features: ['Year', 'Mileage', 'City'], Average R-squared: 0.2546\n",
      "Features: ['Year', 'Mileage', 'State'], Average R-squared: 0.1990\n",
      "Features: ['Year', 'Mileage', 'Make'], Average R-squared: 0.4949\n",
      "Features: ['Year', 'Mileage', 'Model'], Average R-squared: 0.7255\n",
      "Features: ['Year', 'City', 'State'], Average R-squared: 0.2313\n",
      "Features: ['Year', 'City', 'Make'], Average R-squared: 0.4975\n",
      "Features: ['Year', 'City', 'Model'], Average R-squared: 0.7139\n",
      "Features: ['Year', 'State', 'Make'], Average R-squared: 0.4831\n",
      "Features: ['Year', 'State', 'Model'], Average R-squared: 0.7073\n",
      "Features: ['Year', 'Make', 'Model'], Average R-squared: 0.7241\n",
      "Features: ['Mileage', 'City', 'State'], Average R-squared: 0.2412\n",
      "Features: ['Mileage', 'City', 'Make'], Average R-squared: 0.4818\n",
      "Features: ['Mileage', 'City', 'Model'], Average R-squared: 0.7288\n",
      "Features: ['Mileage', 'State', 'Make'], Average R-squared: 0.4674\n",
      "Features: ['Mileage', 'State', 'Model'], Average R-squared: 0.7237\n",
      "Features: ['Mileage', 'Make', 'Model'], Average R-squared: 0.7344\n",
      "Features: ['City', 'State', 'Make'], Average R-squared: 0.3461\n",
      "Features: ['City', 'State', 'Model'], Average R-squared: 0.6639\n",
      "Features: ['City', 'Make', 'Model'], Average R-squared: 0.6687\n",
      "Features: ['State', 'Make', 'Model'], Average R-squared: 0.6595\n",
      "Features: ['Year', 'Mileage', 'City', 'State'], Average R-squared: 0.2543\n",
      "Features: ['Year', 'Mileage', 'City', 'Make'], Average R-squared: 0.5100\n",
      "Features: ['Year', 'Mileage', 'City', 'Model'], Average R-squared: 0.7310\n",
      "Features: ['Year', 'Mileage', 'State', 'Make'], Average R-squared: 0.4975\n",
      "Features: ['Year', 'Mileage', 'State', 'Model'], Average R-squared: 0.7259\n",
      "Features: ['Year', 'Mileage', 'Make', 'Model'], Average R-squared: 0.7398\n",
      "Best feature combination: ['Year', 'Mileage', 'Make', 'Model'], Average R-squared: 0.7398\n"
     ]
    }
   ],
   "source": [
    "# Perform cross-validation\n",
    "best_score = 0\n",
    "best_features = None\n",
    "for features in feature_combinations:\n",
    "    X_subset = X_scaled[:, [X.columns.get_loc(col) for col in features]]\n",
    "    model = LinearRegression()\n",
    "    scores = cross_val_score(model, X_subset, y, cv=5, scoring='r2')\n",
    "    avg_score = scores.mean()\n",
    "    if avg_score > best_score:\n",
    "        best_score = avg_score\n",
    "        best_features = features\n",
    "    print(f'Features: {features}, Average R-squared: {avg_score:.4f}')\n",
    "\n",
    "print(f'Best feature combination: {best_features}, Average R-squared: {best_score:.4f}')"
   ]
  },
  {
   "cell_type": "code",
   "execution_count": 15,
   "id": "6aebf590-f13d-49b6-9343-08ded5ec4f15",
   "metadata": {
    "id": "6aebf590-f13d-49b6-9343-08ded5ec4f15"
   },
   "outputs": [],
   "source": [
    "# Split data into training (80%) and testing (20%) sets\n",
    "X_train, X_test, y_train, y_test = train_test_split(X_scaled, y, test_size=0.2, random_state=42)"
   ]
  },
  {
   "cell_type": "code",
   "execution_count": 16,
   "id": "9ea82849-334f-44e6-a6b6-1477b4b930f0",
   "metadata": {},
   "outputs": [
    {
     "data": {
      "text/plain": [
       "LinearRegression()"
      ]
     },
     "execution_count": 16,
     "metadata": {},
     "output_type": "execute_result"
    }
   ],
   "source": [
    "# Fit the linear regression model to the training data using the best feature combination\n",
    "best_subset_indices = [X.columns.get_loc(col) for col in best_features]\n",
    "X_train_subset = X_train[:, best_subset_indices]\n",
    "X_test_subset = X_test[:, best_subset_indices]\n",
    "model = LinearRegression()\n",
    "model.fit(X_train_subset, y_train)"
   ]
  },
  {
   "cell_type": "code",
   "execution_count": 17,
   "id": "92861e7e-449c-4021-b013-234d648a7c70",
   "metadata": {},
   "outputs": [],
   "source": [
    "# Make predictions\n",
    "y_pred = model.predict(X_test_subset)"
   ]
  },
  {
   "cell_type": "code",
   "execution_count": 18,
   "id": "bfed0a96-2502-4bfe-bc9a-651851d79bb4",
   "metadata": {},
   "outputs": [
    {
     "name": "stdout",
     "output_type": "stream",
     "text": [
      "Mean Squared Error: 46205175.64957745\n",
      "R-squared: 0.7486888416784756\n"
     ]
    }
   ],
   "source": [
    "# Evaluate the model\n",
    "mse = mean_squared_error(y_test, y_pred)\n",
    "r2 = r2_score(y_test, y_pred)\n",
    "\n",
    "print(\"Mean Squared Error:\", mse)\n",
    "print(\"R-squared:\", r2)"
   ]
  },
  {
   "cell_type": "code",
   "execution_count": 19,
   "id": "788fd3b5-636d-4ec2-a8df-a3acbc4a0a0a",
   "metadata": {},
   "outputs": [
    {
     "name": "stderr",
     "output_type": "stream",
     "text": [
      "/opt/anaconda3/lib/python3.9/site-packages/seaborn/_decorators.py:36: FutureWarning: Pass the following variables as keyword args: x, y. From version 0.12, the only valid positional argument will be `data`, and passing other arguments without an explicit keyword will result in an error or misinterpretation.\n",
      "  warnings.warn(\n",
      "/opt/anaconda3/lib/python3.9/site-packages/seaborn/_decorators.py:36: FutureWarning: Pass the following variables as keyword args: x, y. From version 0.12, the only valid positional argument will be `data`, and passing other arguments without an explicit keyword will result in an error or misinterpretation.\n",
      "  warnings.warn(\n"
     ]
    },
    {
     "data": {
      "image/png": "[encoded data removed]",
      "text/plain": [
       "<Figure size 800x600 with 1 Axes>"
      ]
     },
     "metadata": {},
     "output_type": "display_data"
    }
   ],
   "source": [
    "# Plot actual vs. predicted values\n",
    "plt.figure(figsize=(8, 6))\n",
    "sns.scatterplot(y_test, y_pred)\n",
    "plt.xlabel('Actual Values')\n",
    "plt.ylabel('Predicted Values')\n",
    "plt.title('Actual vs. Predicted Values (Linear Regression)')\n",
    "plt.grid(True)\n",
    "\n",
    "# Plot the regression line\n",
    "sns.lineplot([min(y_test), max(y_test)], [min(y_test), max(y_test)], color='red', linestyle='--', label='Perfect Prediction')\n",
    "plt.legend()\n",
    "\n",
    "plt.show()"
   ]
  }
 ],
 "metadata": {
  "colab": {
   "provenance": []
  },
  "kernelspec": {
   "display_name": "Python 3 (ipykernel)",
   "language": "python",
   "name": "python3"
  },
  "language_info": {
   "codemirror_mode": {
    "name": "ipython",
    "version": 3
   },
   "file_extension": ".py",
   "mimetype": "text/x-python",
   "name": "python",
   "nbconvert_exporter": "python",
   "pygments_lexer": "ipython3",
   "version": "3.9.13"
  }
 },
 "nbformat": 4,
 "nbformat_minor": 5
}
